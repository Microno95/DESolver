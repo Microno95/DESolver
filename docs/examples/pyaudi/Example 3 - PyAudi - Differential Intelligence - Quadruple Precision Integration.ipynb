{
 "cells": [
  {
   "cell_type": "markdown",
   "metadata": {},
   "source": [
    "# Differential Intelligence - Quadruple Precision Integration"
   ]
  },
  {
   "cell_type": "markdown",
   "metadata": {},
   "source": [
    "(original by Dario Izzo - extended by Ekin Ozturk)"
   ]
  },
  {
   "cell_type": "markdown",
   "metadata": {},
   "source": [
    "In this notebook we show the use of `desolver` and quadruple precision arithmetic for numerical integration following the notebook example here [differential intelligence](https://darioizzo.github.io/audi/notebooks/example10.html).\n",
    "\n",
    "(`gdual_real128` is not available on every platform, consult the PyAudi documentation [here](https://darioizzo.github.io/audi/))"
   ]
  },
  {
   "cell_type": "markdown",
   "metadata": {},
   "source": [
    "## Importing Stuff"
   ]
  },
  {
   "cell_type": "code",
   "execution_count": 1,
   "metadata": {},
   "outputs": [
    {
     "name": "stderr",
     "output_type": "stream",
     "text": [
      "PyAudi backend is available.\n",
      "Using numpy backend\n"
     ]
    }
   ],
   "source": [
    "%matplotlib inline\n",
    "from matplotlib import pyplot as plt\n",
    "\n",
    "import os\n",
    "import numpy as np\n",
    "\n",
    "os.environ['DES_BACKEND'] = 'numpy'\n",
    "import desolver as de\n",
    "import desolver.backend as D\n",
    "\n",
    "D.set_float_fmt('gdual_real128')"
   ]
  },
  {
   "cell_type": "markdown",
   "metadata": {},
   "source": [
    "## Controller representation and “simulator”"
   ]
  },
  {
   "cell_type": "markdown",
   "metadata": {},
   "source": [
    "Take as an example the task of learning a robotic controller. In neuro evolution (or Evolutionary Robotics), the controller is typically represented by a neural network, but for the purpose of explaining this new learning concept we will use a polinomial representation for the controller. Later, changing the controller into a NN with weights as parameters will not change the essence of what is done here."
   ]
  },
  {
   "cell_type": "code",
   "execution_count": 2,
   "metadata": {},
   "outputs": [],
   "source": [
    "# Definition of the controller in terms of some weights parameters\n",
    "def u(state, weights):\n",
    "    x,v = state\n",
    "    a,b,c,e,f,g = weights\n",
    "    return a + b*x + c*v + e*x*v + f*x**2 + g*v**2"
   ]
  },
  {
   "cell_type": "code",
   "execution_count": 3,
   "metadata": {},
   "outputs": [],
   "source": [
    "# Definition of the equation of motion (our physics simulator propagating the system to its next state)\n",
    "def eom(state, weights):\n",
    "    x,v = state\n",
    "    dx = v\n",
    "    dv = u(state, weights)\n",
    "    return (dx, dv)"
   ]
  },
  {
   "cell_type": "markdown",
   "metadata": {},
   "source": [
    "## Numerical Integration - Runge-Kutta 8(7) Dormand-Prince Method"
   ]
  },
  {
   "cell_type": "markdown",
   "metadata": {},
   "source": [
    "In Evolutionary Robotics, Euler propagators are commonly used, but we would like to use a higher order integration scheme that is adaptive in order to minimise computation, and increase the accuracy and precision of the results."
   ]
  },
  {
   "cell_type": "code",
   "execution_count": 4,
   "metadata": {},
   "outputs": [],
   "source": [
    "weights = D.array([D.gdual_real128(0.05*(np.random.uniform()-0.5), _, 4) for _ in \"abcefg\"])\n",
    "x = [D.gdual_real128(2*(np.random.uniform()-0.5))]\n",
    "v = [D.gdual_real128(2*(np.random.uniform()-0.5))]\n",
    "y0 = D.array(x + v, dtype=D.gdual_real128)"
   ]
  },
  {
   "cell_type": "code",
   "execution_count": 5,
   "metadata": {},
   "outputs": [],
   "source": [
    "def rhs(t, state, weights, **kwargs):\n",
    "    return D.array(eom(state, weights))"
   ]
  },
  {
   "cell_type": "markdown",
   "metadata": {},
   "source": [
    "We integrate the system using the Runge-Kutta 8(7) scheme[1] as the numerical integration system with a dense output computed using a piecewise C1 Hermite interpolating spline. \n",
    "\n",
    "This particular interpolator is used as it satisfies not only the state boundary conditions, but also the gradients and is well suited for approximating the solution continuously up to first order in time.\n",
    "\n",
    "Note that the entire integration is done using gduals and thus the solution and the interpolating spline stored in the OdeSystem instance, `pyaudi_integration`, contains all the information about how the state reached by our robot changes when we change the control weights.\n",
    "\n",
    "[1] Prince, P.J., and J.R. Dormand. ‘High Order Embedded Runge-Kutta Formulae’. Journal of Computational and Applied Mathematics 7, no. 1 (March 1981): 67–75. https://doi.org/10.1016/0771-050X(81)90010-3."
   ]
  },
  {
   "cell_type": "code",
   "execution_count": 6,
   "metadata": {},
   "outputs": [
    {
     "data": {
      "application/vnd.jupyter.widget-view+json": {
       "model_id": "9844a1975a14478b8347fa831913271c",
       "version_major": 2,
       "version_minor": 0
      },
      "text/plain": [
       "HBox(children=(FloatProgress(value=0.0, max=9000000000.0), HTML(value='')))"
      ]
     },
     "metadata": {},
     "output_type": "display_data"
    },
    {
     "name": "stdout",
     "output_type": "stream",
     "text": [
      "\n"
     ]
    }
   ],
   "source": [
    "pyaudi_integration = de.OdeSystem(rhs, y0=y0, dense_output=False, t=(0, 10.), dt=0.1, rtol=1e-16, atol=1e-16, constants=dict(weights=weights))\n",
    "\n",
    "pyaudi_integration.set_method(\"RK87\")\n",
    "pyaudi_integration.integrate(eta=True)"
   ]
  },
  {
   "cell_type": "code",
   "execution_count": 7,
   "metadata": {},
   "outputs": [
    {
     "data": {
      "image/png": "[encoded data removed]",
      "text/plain": [
       "<Figure size 432x288 with 1 Axes>"
      ]
     },
     "metadata": {
      "needs_background": "light"
     },
     "output_type": "display_data"
    }
   ],
   "source": [
    "x,v = pyaudi_integration.y.T\n",
    "plt.plot([it for it in x.astype(np.float64)],[it for it in v.astype(np.float64)])\n",
    "plt.plot(x.astype(np.float64)[0], v.astype(np.float64)[0], 'ro')\n",
    "plt.show()"
   ]
  },
  {
   "cell_type": "code",
   "execution_count": 8,
   "metadata": {},
   "outputs": [],
   "source": [
    "xf, vf = x[-1], v[-1]"
   ]
  },
  {
   "cell_type": "code",
   "execution_count": 9,
   "metadata": {},
   "outputs": [
    {
     "name": "stdout",
     "output_type": "stream",
     "text": [
      "initial xf: -4.32643519033989179819074709940715337e+00\n",
      "initial vf: -1.10810072940345450233613862727191435e+00\n"
     ]
    }
   ],
   "source": [
    "print(\"initial xf: {}\".format(xf.constant_cf))\n",
    "print(\"initial vf: {}\".format(vf.constant_cf))"
   ]
  },
  {
   "cell_type": "markdown",
   "metadata": {},
   "source": [
    "## Studying the effects of the weights on the behavior"
   ]
  },
  {
   "cell_type": "markdown",
   "metadata": {},
   "source": [
    "We have represented all the robot behavior (x, v) as a polynomial function of the weights. So we now know what happens to the behaviour if we change the weights!! Lets see … we only consider the final state, but the same can be done for all states before."
   ]
  },
  {
   "cell_type": "code",
   "execution_count": 10,
   "metadata": {},
   "outputs": [
    {
     "name": "stdout",
     "output_type": "stream",
     "text": [
      "new xf: -4.08790105348590979343113571960853345e+00\n",
      "new vf: -9.76025404080118888252195734325348374e-01\n"
     ]
    }
   ],
   "source": [
    "dweights = dict({'da': -0.0002, 'db': 0.0003, 'dc': -0.002, 'de': 0.003, 'df': 0.002, 'dg': -0.001})\n",
    "#Lets predict the new final position of our 'robot' if we change his controller as defined above\n",
    "print(\"new xf: {}\".format(xf.evaluate(dweights)))\n",
    "print(\"new vf: {}\".format(vf.evaluate(dweights)))"
   ]
  },
  {
   "cell_type": "markdown",
   "metadata": {},
   "source": [
    "## Check that we learned the correct map"
   ]
  },
  {
   "cell_type": "markdown",
   "metadata": {},
   "source": [
    "We now simulate again our behavior using the new weights to see where we end up to check if the prediction made after our differential learning is correct."
   ]
  },
  {
   "cell_type": "code",
   "execution_count": 11,
   "metadata": {},
   "outputs": [],
   "source": [
    "new_weights = np.array([it + dweights['d' + it.symbol_set[0]] for it in weights])"
   ]
  },
  {
   "cell_type": "code",
   "execution_count": 12,
   "metadata": {},
   "outputs": [
    {
     "data": {
      "application/vnd.jupyter.widget-view+json": {
       "model_id": "a393a443eb2d4dc68ded6832410bb88a",
       "version_major": 2,
       "version_minor": 0
      },
      "text/plain": [
       "HBox(children=(FloatProgress(value=0.0, max=9000000000.0), HTML(value='')))"
      ]
     },
     "metadata": {},
     "output_type": "display_data"
    },
    {
     "name": "stdout",
     "output_type": "stream",
     "text": [
      "\n"
     ]
    }
   ],
   "source": [
    "pyaudi_integration2 = de.OdeSystem(rhs, y0=y0, dense_output=True, t=(0, 10.), dt=0.01, rtol=1e-16, atol=1e-16, constants=dict(weights=new_weights))\n",
    "\n",
    "pyaudi_integration2.set_method(\"RK87\")\n",
    "pyaudi_integration2.integrate(eta=True)"
   ]
  },
  {
   "cell_type": "code",
   "execution_count": 13,
   "metadata": {},
   "outputs": [
    {
     "data": {
      "image/png": "[encoded data removed]",
      "text/plain": [
       "<Figure size 576x576 with 1 Axes>"
      ]
     },
     "metadata": {
      "needs_background": "light"
     },
     "output_type": "display_data"
    }
   ],
   "source": [
    "plt.figure(figsize=(8,8))\n",
    "x2, v2 = pyaudi_integration2.y.T\n",
    "plt.plot([it for it in x.astype(np.float64)],[it for it in v.astype(np.float64)],label='original')\n",
    "plt.plot([it for it in x2.astype(np.float64)],[it for it in v2.astype(np.float64)],'r',label='simulation')\n",
    "plt.plot([float(str(it.evaluate(dweights))) for it in x],[float(str(it.evaluate(dweights))) for it in v],'g',label='differential learning')\n",
    "plt.plot(x.astype(np.float64)[0], v.astype(np.float64)[0], 'ro')\n",
    "plt.legend(loc=2)\n",
    "plt.show()"
   ]
  },
  {
   "cell_type": "code",
   "execution_count": 14,
   "metadata": {},
   "outputs": [
    {
     "name": "stdout",
     "output_type": "stream",
     "text": [
      "Differential learning xf: \t-4.08790105348590979343113571960853345e+00\n",
      "Real xf: \t\t\t-4.08790049721898198826709091823794192e+00\n",
      "Mean Absolute Difference xf:\t5.56266927805164044801370591531155008e-07\n",
      "\n",
      "Differential learning vf: \t-9.76025404080118888252195734325348374e-01\n",
      "Real vf: \t\t\t-9.76024464444690435633362660541304145e-01\n",
      "Mean Absolute Difference vf:\t9.39635428452618833073784044228804317e-07\n"
     ]
    }
   ],
   "source": [
    "print(\"Differential learning xf: \\t{}\".format(x[-1].evaluate(dweights)))\n",
    "print(\"Real xf: \\t\\t\\t{}\".format(x2[-1].constant_cf))\n",
    "print(\"Mean Absolute Difference xf:\\t{}\".format(x2[-1].constant_cf - x[-1].evaluate(dweights)))\n",
    "print()\n",
    "print(\"Differential learning vf: \\t{}\".format(v[-1].evaluate(dweights)))\n",
    "print(\"Real vf: \\t\\t\\t{}\".format(v2[-1].constant_cf))\n",
    "print(\"Mean Absolute Difference vf:\\t{}\".format(v2[-1].constant_cf - v[-1].evaluate(dweights)))"
   ]
  },
  {
   "cell_type": "code",
   "execution_count": 15,
   "metadata": {},
   "outputs": [
    {
     "data": {
      "application/vnd.jupyter.widget-view+json": {
       "model_id": "0b91267439f546799cb8857b2a164574",
       "version_major": 2,
       "version_minor": 0
      },
      "text/plain": [
       "HBox(children=(FloatProgress(value=0.0, max=9000000000.0), HTML(value='')))"
      ]
     },
     "metadata": {},
     "output_type": "display_data"
    },
    {
     "name": "stdout",
     "output_type": "stream",
     "text": [
      "\n"
     ]
    }
   ],
   "source": [
    "pyaudi_integration3 = de.OdeSystem(rhs, y0=y0, dense_output=True, t=(0, 10.), dt=0.01, rtol=1e-16, atol=1e-16, constants=dict(weights=new_weights))\n",
    "\n",
    "pyaudi_integration3.set_method(\"RK45\")\n",
    "pyaudi_integration3.integrate(eta=True)\n",
    "\n",
    "x3, v3 = pyaudi_integration3.y.T"
   ]
  },
  {
   "cell_type": "code",
   "execution_count": 16,
   "metadata": {},
   "outputs": [
    {
     "name": "stdout",
     "output_type": "stream",
     "text": [
      "Difference between RK45 and RK87 xf: \t5.73570701236362644052656811360499930e-15\n",
      "Difference between RK45 and RK87 vf: \t1.98182520163375483957127903101798899e-15\n",
      "\n",
      "Mean Absolute Difference xf[RK87]:\t5.56266927805164044801370591531155008e-07\n",
      "Mean Absolute Difference xf[RK45]:\t5.56266922069457032437744151004586894e-07\n",
      "\n",
      "Mean Absolute Difference vf[RK87]:\t9.39635428452618833073784044228804317e-07\n",
      "Mean Absolute Difference vf[RK45]:\t9.39635426470793631440029204657525286e-07\n"
     ]
    }
   ],
   "source": [
    "print(\"Difference between RK45 and RK87 xf: \\t{}\".format((x2[-1] - x3[-1]).constant_cf))\n",
    "print(\"Difference between RK45 and RK87 vf: \\t{}\".format((v2[-1] - v3[-1]).constant_cf))\n",
    "print()\n",
    "print(\"Mean Absolute Difference xf[RK87]:\\t{}\".format(x2[-1].constant_cf - x[-1].evaluate(dweights)))\n",
    "print(\"Mean Absolute Difference xf[RK45]:\\t{}\".format(x3[-1].constant_cf - x[-1].evaluate(dweights)))\n",
    "print()\n",
    "print(\"Mean Absolute Difference vf[RK87]:\\t{}\".format(v2[-1].constant_cf - v[-1].evaluate(dweights)))\n",
    "print(\"Mean Absolute Difference vf[RK45]:\\t{}\".format(v3[-1].constant_cf - v[-1].evaluate(dweights)))"
   ]
  },
  {
   "cell_type": "code",
   "execution_count": null,
   "metadata": {},
   "outputs": [],
   "source": []
  },
  {
   "cell_type": "code",
   "execution_count": null,
   "metadata": {},
   "outputs": [],
   "source": []
  }
 ],
 "metadata": {
  "kernelspec": {
   "display_name": "Python [conda env:desolver]",
   "language": "python",
   "name": "conda-env-desolver-py"
  },
  "language_info": {
   "codemirror_mode": {
    "name": "ipython",
    "version": 3
   },
   "file_extension": ".py",
   "mimetype": "text/x-python",
   "name": "python",
   "nbconvert_exporter": "python",
   "pygments_lexer": "ipython3",
   "version": "3.7.3"
  }
 },
 "nbformat": 4,
 "nbformat_minor": 2
}
