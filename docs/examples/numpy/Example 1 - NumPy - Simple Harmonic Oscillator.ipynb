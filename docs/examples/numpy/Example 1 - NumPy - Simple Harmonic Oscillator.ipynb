{
 "cells": [
  {
   "cell_type": "markdown",
   "metadata": {},
   "source": [
    "# The Simple Harmonic Oscillator"
   ]
  },
  {
   "cell_type": "markdown",
   "metadata": {},
   "source": [
    "Here we will expand on the harmonic oscillator first shown in the getting started script. I'll walk you through some of the features of desolver and hopefully give a better a sense of how to use the software.\n",
    "\n",
    "So let's begin!"
   ]
  },
  {
   "cell_type": "markdown",
   "metadata": {},
   "source": [
    "First we import the libraries we'll need. I import all the matplotlib machinery using the magic command `%matplotlib`, but this is only for notebook/ipython environments.\n",
    "\n",
    "Then I import `desolver` and the desolver backend as well (this will be useful for specifying our problem), and set the default datatype to `float64`."
   ]
  },
  {
   "cell_type": "code",
   "execution_count": 1,
   "metadata": {},
   "outputs": [
    {
     "name": "stderr",
     "output_type": "stream",
     "text": [
      "PyAudi backend is available.\n",
      "Using numpy backend\n"
     ]
    }
   ],
   "source": [
    "%matplotlib inline\n",
    "from matplotlib import pyplot as plt\n",
    "\n",
    "import desolver as de\n",
    "import desolver.backend as D\n",
    "\n",
    "D.set_float_fmt('float64')"
   ]
  },
  {
   "cell_type": "markdown",
   "metadata": {},
   "source": [
    "## Specifying the Dynamical System"
   ]
  },
  {
   "cell_type": "markdown",
   "metadata": {},
   "source": [
    "Now let's specify the right hand side of our dynamical system. It should be\n",
    "\n",
    "$$\n",
    "\\frac{\\mathrm{d^2}x}{\\mathrm{dt}^2} = -\\frac{k}{m} x\n",
    "$$\n",
    "\n",
    "But desolver only works with first order differential equations, thus we must cast this into a first order system before we can solve it. Thus we obtain the following system\n",
    "\n",
    "$$\n",
    "\\begin{array}{l}\n",
    "\\frac{\\mathrm{d}x}{\\mathrm{dt}} = v_x \\\\\n",
    "\\frac{\\mathrm{d}v_x}{\\mathrm{dt}} = -\\frac{k}{m} x\n",
    "\\end{array}\n",
    "$$\n",
    "\n",
    "which can be specified as a simple matrix equation as\n",
    "\n",
    "$$\n",
    "\\begin{array}{c}\n",
    "\\frac{\\mathrm{d}y}{\\mathrm{dt}} = \\begin{bmatrix}\n",
    "   0            & 1 \\\\\n",
    "   -\\frac{k}{m} & 0\n",
    "   \\end{bmatrix} \\cdot \\vec y \\\\\n",
    "\\vec y = \\begin{bmatrix}x \\\\ v_x\\end{bmatrix}\n",
    "\\end{array}\n",
    "$$"
   ]
  },
  {
   "cell_type": "code",
   "execution_count": 2,
   "metadata": {},
   "outputs": [],
   "source": [
    "@de.rhs_prettifier(\n",
    "    equ_repr=\"[vx, -k*x/m]\",\n",
    "    md_repr=r\"\"\"\n",
    "$$\n",
    "\\frac{\\mathrm{d}y}{\\mathrm{dt}} = \\begin{bmatrix}\n",
    "   0            & 1 \\\\\n",
    "   -\\frac{k}{m} & 0\n",
    "   \\end{bmatrix} \\cdot \\vec y\n",
    "$$\n",
    "\"\"\"\n",
    ")\n",
    "def rhs(t, state, k, m, **kwargs):\n",
    "    return D.array([[0.0, 1.0], [-k/m,  0.0]])@state"
   ]
  },
  {
   "cell_type": "markdown",
   "metadata": {},
   "source": [
    "First thing to notice is that we used the backend to specify the matrix and minimise the use of numpy specific machinery. This isn't necessary if you only use numpy, but by doing this we can make this code run with the pytorch backend with minimal effort.\n",
    "\n",
    "Second thing is the use of the decorator `@de.rhs_prettifier`, this is a convenience decorator that allows me to specify a text representation of the differential equations. Convenient if I want to print it"
   ]
  },
  {
   "cell_type": "code",
   "execution_count": 3,
   "metadata": {},
   "outputs": [
    {
     "name": "stdout",
     "output_type": "stream",
     "text": [
      "[vx, -k*x/m]\n"
     ]
    }
   ],
   "source": [
    "print(rhs)"
   ]
  },
  {
   "cell_type": "markdown",
   "metadata": {},
   "source": [
    "Or if I want it to look pretty when it is rendered in the notebook"
   ]
  },
  {
   "cell_type": "code",
   "execution_count": 4,
   "metadata": {},
   "outputs": [
    {
     "data": {
      "text/markdown": [
       "\n",
       "$$\n",
       "\\frac{\\mathrm{d}y}{\\mathrm{dt}} = \\begin{bmatrix}\n",
       "   0            & 1 \\\\\n",
       "   -\\frac{k}{m} & 0\n",
       "   \\end{bmatrix} \\cdot \\vec y\n",
       "$$\n"
      ],
      "text/plain": [
       "<DiffRHS(<function rhs at 0x7f4f54c5e400>,[vx, -k*x/m],\n",
       "$$\n",
       "\\frac{\\mathrm{d}y}{\\mathrm{dt}} = \\begin{bmatrix}\n",
       "   0            & 1 \\\\\n",
       "   -\\frac{k}{m} & 0\n",
       "   \\end{bmatrix} \\cdot \\vec y\n",
       "$$\n",
       ")>"
      ]
     },
     "metadata": {},
     "output_type": "display_data"
    }
   ],
   "source": [
    "display(rhs)"
   ]
  },
  {
   "cell_type": "markdown",
   "metadata": {},
   "source": [
    "Let's specify the initial conditions as well"
   ]
  },
  {
   "cell_type": "code",
   "execution_count": 5,
   "metadata": {},
   "outputs": [],
   "source": [
    "y_init = D.array([1., 0.])"
   ]
  },
  {
   "cell_type": "markdown",
   "metadata": {},
   "source": [
    "And now we're ready to integrate!"
   ]
  },
  {
   "cell_type": "markdown",
   "metadata": {},
   "source": [
    "## The Numerical Integration"
   ]
  },
  {
   "cell_type": "markdown",
   "metadata": {},
   "source": [
    "There are a number of things we must choose before we numerically integrate our system of equations. The first of these is whether or not we want an interpolating spline so that we can compute the state of our system between timesteps. The second is the duration of the numerical integration. And the third is the value of parameters of the system: `k` and `m`. \n",
    "\n",
    "Unlike scipy, desolver let's you specify a dictionary of constants that are passed to the `rhs` function and can be modified even after constructing the `OdeSystem` object. This is particularly useful if you want to vary a single constant over multiple integrations without changing any other parameters.\n",
    "\n",
    "Now, we'll set the numerical integration to 1 cycle of the oscillator at `k=1` and `m=1` which, when computed from the formula $T=2\\pi\\sqrt{\\frac{k}{m}}$, is exactly $2\\pi$."
   ]
  },
  {
   "cell_type": "code",
   "execution_count": 6,
   "metadata": {},
   "outputs": [],
   "source": [
    "a = de.OdeSystem(rhs, y0=y_init, dense_output=True, t=(0, 2*D.pi), dt=0.01, rtol=1e-9, atol=1e-9, constants=dict(k=1.0, m=1.0))"
   ]
  },
  {
   "cell_type": "code",
   "execution_count": 7,
   "metadata": {},
   "outputs": [],
   "source": [
    "a.integrate()"
   ]
  },
  {
   "cell_type": "markdown",
   "metadata": {},
   "source": [
    "Since `k=1` and `m=1` and we integrated for 1 cycle, we expect that the final state of the system is the same as the initial state."
   ]
  },
  {
   "cell_type": "code",
   "execution_count": 8,
   "metadata": {},
   "outputs": [
    {
     "name": "stdout",
     "output_type": "stream",
     "text": [
      "initial state = [1. 0.]\n",
      "final state   = [ 1.00000000e+00 -1.14580831e-10]\n",
      "maximum absolute difference = 3.2781628522826622e-09\n"
     ]
    }
   ],
   "source": [
    "print(\"initial state = {}\".format(a[0].y))\n",
    "print(\"final state   = {}\".format(a[-1].y))\n",
    "print(\"maximum absolute difference = {}\".format(D.max(D.abs(a[-1].y - a[0].y))))"
   ]
  },
  {
   "cell_type": "markdown",
   "metadata": {},
   "source": [
    "Wonderful! We see that the final state is almost exactly the same. Furthermore, we see that this is within the tolerances we specified when creating the `OdeSystem` where we set `rtol` and `atol` to `1e-9`.\n",
    "\n",
    "To show you that this is not a fluke, we'll change them to `1e-12` and see what happens."
   ]
  },
  {
   "cell_type": "code",
   "execution_count": 9,
   "metadata": {},
   "outputs": [],
   "source": [
    "a.rtol = 1e-12\n",
    "a.atol = 1e-12\n",
    "a.reset()\n",
    "a.integrate()"
   ]
  },
  {
   "cell_type": "code",
   "execution_count": 10,
   "metadata": {},
   "outputs": [
    {
     "name": "stdout",
     "output_type": "stream",
     "text": [
      "initial state = [1. 0.]\n",
      "final state   = [ 1.00000000e+00 -2.84841595e-14]\n",
      "maximum absolute difference = 3.2589486664846845e-12\n"
     ]
    }
   ],
   "source": [
    "print(\"initial state = {}\".format(a[0].y))\n",
    "print(\"final state   = {}\".format(a[-1].y))\n",
    "print(\"maximum absolute difference = {}\".format(D.max(D.abs(a[-1].y - a[0].y))))"
   ]
  },
  {
   "cell_type": "markdown",
   "metadata": {},
   "source": [
    "It's very simple to change the tolerances and rerun the system. Furthermore, we can update our constants and see what happens.\n",
    "\n",
    "If we quadruple `k`, the spring constant, the period will double, and so after an integration period of $2\\pi$ the system should, yet again, be in a final state that is almost exactly the initial state."
   ]
  },
  {
   "cell_type": "code",
   "execution_count": 11,
   "metadata": {},
   "outputs": [],
   "source": [
    "a.consts['k'] = a.consts['k'] * 4\n",
    "a.reset()\n",
    "a.integrate()"
   ]
  },
  {
   "cell_type": "code",
   "execution_count": 12,
   "metadata": {},
   "outputs": [
    {
     "name": "stdout",
     "output_type": "stream",
     "text": [
      "initial state = [1. 0.]\n",
      "final state   = [ 1.00000000e+00 -1.69343706e-13]\n",
      "maximum absolute difference = 9.037215420448774e-12\n"
     ]
    }
   ],
   "source": [
    "print(\"initial state = {}\".format(a[0].y))\n",
    "print(\"final state   = {}\".format(a[-1].y))\n",
    "print(\"maximum absolute difference = {}\".format(D.max(D.abs(a[-1].y - a[0].y))))"
   ]
  },
  {
   "cell_type": "markdown",
   "metadata": {},
   "source": [
    "The final state is again almost the same as the initial state, but now the maximum absolute difference has increased. This is due to the fact that the numerical error when using an adaptive runge-kutta method is not a random walk, but a function of the whole numerical procedure. Thus if we double the initial integration time, and set `k=1` again, we'll see that the error is larger."
   ]
  },
  {
   "cell_type": "code",
   "execution_count": 13,
   "metadata": {},
   "outputs": [],
   "source": [
    "a.consts['k'] = 1\n",
    "a.tf = 4*D.pi\n",
    "a.reset()\n",
    "a.integrate()"
   ]
  },
  {
   "cell_type": "code",
   "execution_count": 14,
   "metadata": {},
   "outputs": [
    {
     "name": "stdout",
     "output_type": "stream",
     "text": [
      "initial state = [1. 0.]\n",
      "final state   = [ 1.00000000e+00 -5.67506112e-14]\n",
      "maximum absolute difference = 6.517675288364444e-12\n"
     ]
    }
   ],
   "source": [
    "print(\"initial state = {}\".format(a[0].y))\n",
    "print(\"final state   = {}\".format(a[-1].y))\n",
    "print(\"maximum absolute difference = {}\".format(D.max(D.abs(a[-1].y - a[0].y))))"
   ]
  },
  {
   "cell_type": "markdown",
   "metadata": {},
   "source": [
    "The longer we integrate for, the larger this error will become. Is there anything we can do?\n",
    "\n",
    "**YES**\n",
    "\n",
    "We can use a symplectic integrator since this is a system with a Hamiltonian $H=\\frac{kx^2}{2} + \\frac{mv_x^2}/2$.\n",
    "\n",
    "A symplectic integrator preserves the symplectic two-form $\\mathrm{d}\\vec p \\wedge\\mathrm{d}\\vec q$ where $p$ is the momentum and $q$ is the position such that\n",
    "\n",
    "$$\n",
    "\\begin{array}{l}\n",
    "\\frac{\\mathrm{d}p}{\\mathrm{dt}} = -\\frac{\\partial H}{\\partial q} \\\\\n",
    "\\frac{\\mathrm{d}q}{\\mathrm{dt}} = \\frac{\\partial H}{\\partial p}\n",
    "\\end{array}\n",
    "$$\n",
    "\n",
    "where, in our case, $v_x = \\frac{p}{m}$ and $x = q$.\n",
    "\n",
    "Why is this important? I'll leave the detailed theory to [Wikipedia](https://en.wikipedia.org/wiki/Symplectic_integrator) and other sources, but the jist of it is that a symplectic integrator is essentially a geometric transformation in the phase space of the system and thus preserves the differential volume element of a Hamiltonian that is almost, but not quite, the Hamiltonian of the system.\n",
    "\n",
    "This is great because it means that, in the best case scenario, the errors in the numerically integrated states are random walks instead of increasing linearly with the integration time. The downside is that a symplectic integrator is not adaptive and thus requires more function evaluations than a Runge-Kutta method."
   ]
  },
  {
   "cell_type": "code",
   "execution_count": 15,
   "metadata": {},
   "outputs": [
    {
     "name": "stderr",
     "output_type": "stream",
     "text": [
      "An integration was already run, the system will be reset\n"
     ]
    }
   ],
   "source": [
    "a.set_method(\"BABS9O7H\")\n",
    "a.dt = 0.05\n",
    "a.tf = 2*D.pi\n",
    "a.integrate()"
   ]
  },
  {
   "cell_type": "code",
   "execution_count": 16,
   "metadata": {},
   "outputs": [
    {
     "name": "stdout",
     "output_type": "stream",
     "text": [
      "initial state = [1. 0.]\n",
      "final state   = [ 1.0000000e+00 -2.7269853e-15]\n",
      "maximum absolute difference = 2.7269853042355408e-15\n"
     ]
    }
   ],
   "source": [
    "print(\"initial state = {}\".format(a[0].y))\n",
    "print(\"final state   = {}\".format(a[-1].y))\n",
    "print(\"maximum absolute difference = {}\".format(D.max(D.abs(a[-1].y - a[0].y))))"
   ]
  },
  {
   "cell_type": "code",
   "execution_count": 17,
   "metadata": {},
   "outputs": [
    {
     "name": "stderr",
     "output_type": "stream",
     "text": [
      "An integration was already run, the system will be reset\n"
     ]
    }
   ],
   "source": [
    "a.set_method(\"BABS9O7H\")\n",
    "a.dt = 0.05\n",
    "a.tf = 8*D.pi\n",
    "a.integrate()"
   ]
  },
  {
   "cell_type": "code",
   "execution_count": 18,
   "metadata": {},
   "outputs": [
    {
     "name": "stdout",
     "output_type": "stream",
     "text": [
      "initial state = [1. 0.]\n",
      "final state   = [ 1.00000000e+00 -9.48546797e-15]\n",
      "maximum absolute difference = 9.485467966641181e-15\n"
     ]
    }
   ],
   "source": [
    "print(\"initial state = {}\".format(a[0].y))\n",
    "print(\"final state   = {}\".format(a[-1].y))\n",
    "print(\"maximum absolute difference = {}\".format(D.max(D.abs(a[-1].y - a[0].y))))"
   ]
  },
  {
   "cell_type": "code",
   "execution_count": 19,
   "metadata": {},
   "outputs": [
    {
     "name": "stderr",
     "output_type": "stream",
     "text": [
      "An integration was already run, the system will be reset\n"
     ]
    }
   ],
   "source": [
    "a.set_method(\"BABS9O7H\")\n",
    "a.dt = 0.05\n",
    "a.tf = 32*D.pi\n",
    "a.integrate()"
   ]
  },
  {
   "cell_type": "code",
   "execution_count": 20,
   "metadata": {},
   "outputs": [
    {
     "name": "stdout",
     "output_type": "stream",
     "text": [
      "initial state = [1. 0.]\n",
      "final state   = [ 1.00000000e+00 -4.41313652e-14]\n",
      "maximum absolute difference = 4.413136522884997e-14\n"
     ]
    }
   ],
   "source": [
    "print(\"initial state = {}\".format(a[0].y))\n",
    "print(\"final state   = {}\".format(a[-1].y))\n",
    "print(\"maximum absolute difference = {}\".format(D.max(D.abs(a[-1].y - a[0].y))))"
   ]
  },
  {
   "cell_type": "markdown",
   "metadata": {},
   "source": [
    "Above, I've run the numerical integration using a step size of $0.05$ for increasing integration periods from one cycle to four cycles to sixteen cycles and, despite that, the error has stayed near the limits of double precision arithmetic. If I further integrate for 1024 cycles, we'll see that the error begins to increase and this is expected because although the errors in each step may be random walks, they have a cumulative effect that is not necessarily a random walk. "
   ]
  },
  {
   "cell_type": "code",
   "execution_count": 21,
   "metadata": {},
   "outputs": [
    {
     "name": "stderr",
     "output_type": "stream",
     "text": [
      "An integration was already run, the system will be reset\n"
     ]
    }
   ],
   "source": [
    "a.set_method(\"BABS9O7H\")\n",
    "a.dt = 0.05\n",
    "a.tf = 2*1024*D.pi\n",
    "a.integrate()"
   ]
  },
  {
   "cell_type": "code",
   "execution_count": 22,
   "metadata": {},
   "outputs": [
    {
     "name": "stdout",
     "output_type": "stream",
     "text": [
      "initial state = [1. 0.]\n",
      "final state   = [ 1.00000000e+00 -2.06966388e-12]\n",
      "maximum absolute difference = 2.069663884718409e-12\n"
     ]
    }
   ],
   "source": [
    "print(\"initial state = {}\".format(a[0].y))\n",
    "print(\"final state   = {}\".format(a[-1].y))\n",
    "print(\"maximum absolute difference = {}\".format(D.max(D.abs(a[-1].y - a[0].y))))"
   ]
  },
  {
   "cell_type": "code",
   "execution_count": 23,
   "metadata": {},
   "outputs": [
    {
     "data": {
      "image/png": "[encoded data removed]",
      "text/plain": [
       "<Figure size 1008x576 with 2 Axes>"
      ]
     },
     "metadata": {
      "needs_background": "light"
     },
     "output_type": "display_data"
    }
   ],
   "source": [
    "fig = plt.figure(figsize=(14,8))\n",
    "ax  = fig.add_subplot(111)\n",
    "\n",
    "displn = ax.plot(a.t, a.y[:, 0], label=\"Oscillator Displacement\", color='C0')\n",
    "axt = ax.twinx()\n",
    "velln  = axt.plot(a.t, a.y[:, 1], label=\"Oscillator Velocity\", color='red', linestyle='--')\n",
    "\n",
    "ax.set_xlabel(\"Time (s)\")\n",
    "ax.set_ylabel(\"Displacement (m)\")\n",
    "axt.set_ylabel(\"Velocity (m/s)\")\n",
    "ax.set_xlim(0, 2*D.pi)\n",
    "\n",
    "ax.spines['left'].set_color('C0')\n",
    "ax.tick_params(axis='y', colors='C0')\n",
    "ax.yaxis.label.set_color('C0')\n",
    "\n",
    "axt.spines['right'].set_color('red')\n",
    "axt.spines['left'].set_color('C0')\n",
    "axt.tick_params(axis='y', colors='red')\n",
    "axt.yaxis.label.set_color('red')\n",
    "\n",
    "# added these three lines\n",
    "lns = displn + velln\n",
    "labs = [l.get_label() for l in lns]\n",
    "ax.legend(lns, labs)\n",
    "\n",
    "ax.set_title(\"1 Cycle of a Harmonic Oscillator\")\n",
    "plt.tight_layout()"
   ]
  }
 ],
 "metadata": {
  "kernelspec": {
   "display_name": "Python [conda env:desolver]",
   "language": "python",
   "name": "conda-env-desolver-py"
  },
  "language_info": {
   "codemirror_mode": {
    "name": "ipython",
    "version": 3
   },
   "file_extension": ".py",
   "mimetype": "text/x-python",
   "name": "python",
   "nbconvert_exporter": "python",
   "pygments_lexer": "ipython3",
   "version": "3.7.3"
  }
 },
 "nbformat": 4,
 "nbformat_minor": 2
}
