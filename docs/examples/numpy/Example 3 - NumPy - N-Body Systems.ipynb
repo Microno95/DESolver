{
 "cells": [
  {
   "cell_type": "markdown",
   "metadata": {},
   "source": [
    "# N-Body Gravitationally Interacting System"
   ]
  },
  {
   "cell_type": "markdown",
   "metadata": {},
   "source": [
    "Let's try doing something more complicated: N-body dynamics. As the name implies, we have $N$ interacting bodies where the interactions are mediated by some forces.\n",
    "\n",
    "For this notebook, we'll look at gravitational interactions. It should be mentioned that N-body interactions are generally slow to compute because every body interacts with every other body and thus you have to compute the force $N(N-1)$, $\\frac{N(N-1)}{2}$ times if the force is symmetric as in our case, which scales really poorly. There are methods to overcome this, but are not in the scope of this notebook as we'll be looking at $N\\sim10$."
   ]
  },
  {
   "cell_type": "markdown",
   "metadata": {},
   "source": [
    "First we import the libraries we'll need. I import all the matplotlib machinery using the magic command `%matplotlib`, but this is only for notebook/ipython environments.\n",
    "\n",
    "Then I import `desolver` and the desolver backend as well (this will be useful for specifying our problem), and set the default datatype to `float64`."
   ]
  },
  {
   "cell_type": "code",
   "execution_count": 1,
   "metadata": {},
   "outputs": [
    {
     "name": "stderr",
     "output_type": "stream",
     "text": [
      "PyAudi backend is available.\n",
      "Using numpy backend\n"
     ]
    }
   ],
   "source": [
    "%matplotlib inline\n",
    "from matplotlib import pyplot as plt\n",
    "\n",
    "import desolver as de\n",
    "import desolver.backend as D\n",
    "\n",
    "D.set_float_fmt('float64')"
   ]
  },
  {
   "cell_type": "markdown",
   "metadata": {},
   "source": [
    "## Specifying the Dynamical System"
   ]
  },
  {
   "cell_type": "markdown",
   "metadata": {},
   "source": [
    "Writing out the dynamical equations will take a bit more work, but we'll start from Newton's Law of Gravitation and build from there.\n",
    "\n",
    "So, Newton's Law of Gravitation states the gravitational force exerted by one body on another is\n",
    "\n",
    "$$\n",
    "\\vec F_{ij} = G\\frac{m_i m_j}{|\\vec r_j - \\vec r_i|^3} (\\vec r_j - \\vec r_i)\n",
    "$$\n",
    "\n",
    "where $G$ is the gravitational constant, $m_i$ and $m_j$ are the masses of the two bodies, and $\\vec r_i$ and $\\vec r_j$ are the position vectors of the two bodies.\n",
    "\n",
    "Note that this is symmetric in terms of magnitude and merely the direction is flipped when we swap $i$ and $j$, i.e. $\\vec F_{ij} = -\\vec F_{ji}$. This is where the factor of $\\frac{1}{2}$ comes from the in the number of computations required."
   ]
  },
  {
   "cell_type": "markdown",
   "metadata": {},
   "source": [
    "This is not sufficient to compute the actual dynamics, we must find the force on a single body from all the other bodies. To do this, we simply add the forces of every other body in the simulation thus the force is\n",
    "\n",
    "$$\n",
    "\\vec F_i = \\sum_{j\\neq i}F_{ij}\n",
    "$$\n",
    "\n",
    "You'll notice that we sum over $i\\neq j$ thus there are $(N-1)$ $F_{ij}$ terms to add. This is where the factor of $(N-1)$ in the number of computations comes from, and since we do it for every single body, we do this computation $N$ times thus the factor of $N$ is explained as well."
   ]
  },
  {
   "cell_type": "markdown",
   "metadata": {},
   "source": [
    "This is all well and good, but how do we write this? Well, `desolver` makes that part much simpler. Unlike solve_ivp, my equation representation is not required to be a single vector at any stage, thus I can easily have an array of shape `(N, 6)` to represent the state vectors of each body. This will also allow me to easily take advantage of `numpy` broadcasting semantics."
   ]
  },
  {
   "cell_type": "code",
   "execution_count": 2,
   "metadata": {},
   "outputs": [],
   "source": [
    "def Fij(ri, rj, G):\n",
    "    rel_r = rj - ri\n",
    "    return G*(1/D.norm(rel_r, ord=2)**3)*rel_r\n",
    "\n",
    "def rhs(t, state, masses, G):\n",
    "    total_acc = D.zeros_like(state)\n",
    "    \n",
    "    for idx, (ri, mi) in enumerate(zip(state, masses)):\n",
    "        for jdx, (rj, mj) in enumerate(zip(state[idx+1:], masses[idx+1:])):\n",
    "            partial_force = Fij(ri[:3], rj[:3], G)\n",
    "            total_acc[idx, 3:]       += partial_force * mj\n",
    "            total_acc[idx+jdx+1, 3:] -= partial_force * mi\n",
    "    \n",
    "    total_acc[:, :3] = state[:, 3:]\n",
    "    \n",
    "    return total_acc"
   ]
  },
  {
   "cell_type": "markdown",
   "metadata": {},
   "source": [
    "NOTE: The line `total_acc[:, :3] -= (D.sum(total_acc[:, :3]*masses[:, None], axis=0) / D.sum(masses))` is useful when we want to look at how the objects behave relative to the centre of mass. Generally this would be relative to the Sun if the other bodies are the planets in our Solar System given that most of the mass in our Solar System is concentrated at the Sun."
   ]
  },
  {
   "cell_type": "markdown",
   "metadata": {},
   "source": [
    "### Hénon Units\n",
    "\n",
    "Now we cannot use the equations in this form because they encompass a very large scale of values ranging from $10^{-11}$ for the gravitational constant to $10^{30}$ for the mass of the sun. Thus we will non-dimensionalise the system by measuring all the lengths by $1AU = 149597871km$, the masses by $M_\\bigodot = 1.989\\times 10^{30}kg$, and the time in $1yr$.\n",
    "\n",
    "In these units, the gravitational constant becomes $G = 4\\pi^2$. Using the constants defined in the next cell, units in SI can be converted to units in our system."
   ]
  },
  {
   "cell_type": "code",
   "execution_count": 3,
   "metadata": {},
   "outputs": [],
   "source": [
    "Msun = 1.98847*10**30   ## Mass of the Sun, kg\n",
    "AU   = 149597871e3      ## 1 Astronomical Unit, m\n",
    "year = 365.25*24*3600   ## 1 year, s\n",
    "G    = 4*D.pi**2        ## in solar masses, AU, years\n",
    "V    = D.sqrt(G)        ## Speed scale corresponding to the orbital speed required for a circular orbit at 1AU with a period of 1yr"
   ]
  },
  {
   "cell_type": "markdown",
   "metadata": {},
   "source": [
    "I've added 3 massive bodies at the ends of a scalene triangle"
   ]
  },
  {
   "cell_type": "code",
   "execution_count": 4,
   "metadata": {},
   "outputs": [
    {
     "data": {
      "text/plain": [
       "array([[  0.        ,  -1.        ,   0.        ,  10.4682963 ,\n",
       "          1.42676504, -41.8731852 ],\n",
       "       [  0.        ,   1.        ,   0.        , -41.47116241,\n",
       "         14.22721674,  13.9577284 ],\n",
       "       [  0.        ,  -0.        ,   0.        ,   8.82285763,\n",
       "        -43.62661768,  13.9577284 ],\n",
       "       [ -0.        ,   0.        ,   0.        ,  22.18000848,\n",
       "         27.97263591,  13.9577284 ]])"
      ]
     },
     "execution_count": 4,
     "metadata": {},
     "output_type": "execute_result"
    }
   ],
   "source": [
    "initial_state = D.array([\n",
    "    [0.0,   0.0,                1.0,  0.0,                  -1.0,    0.0],\n",
    "    [1.0,   0.0,                0.0,  0.0,                   1.0,    0.0],\n",
    "    [0.25,  0.9682458365518543, 0.0,  0.9682458365518543*0, -0.25*0, 0.0],\n",
    "    [-0.5, -0.8660254037844386, 0.0, -0.8660254037844386*0,  0.5*0,  0.0],\n",
    "])\n",
    "\n",
    "masses = D.array([\n",
    "    1,\n",
    "    1,\n",
    "    1,\n",
    "    1,\n",
    "])\n",
    "\n",
    "rhs(0.0, initial_state, masses, G)"
   ]
  },
  {
   "cell_type": "markdown",
   "metadata": {},
   "source": [
    "## The Numerical Integration"
   ]
  },
  {
   "cell_type": "markdown",
   "metadata": {},
   "source": [
    "We will use the 14th order Runge-Kutta integrator to integrate our system with tolerances of $10^{-14}$ which should give fairly accurate results despite the very complicated trajectories of each body.\n",
    "\n",
    "Although symplectic integrators are great for conserving the energy, we prefer an adaptive integrator due to the fact that the bodies have close encounters which require much smaller steps to resolve. If we were to use small step sizes at all times, we'd be wasting computation whenever the bodies are far from each other. This leads us to pick an adaptive Runge-Kutta method."
   ]
  },
  {
   "cell_type": "code",
   "execution_count": 5,
   "metadata": {},
   "outputs": [],
   "source": [
    "a = de.OdeSystem(rhs, y0=initial_state, dense_output=True, t=(0, 2.0), dt=0.00001, rtol=1e-14, atol=1e-14, constants=dict(G=G, masses=masses))\n",
    "a.method = \"RK1412\""
   ]
  },
  {
   "cell_type": "code",
   "execution_count": null,
   "metadata": {},
   "outputs": [],
   "source": [
    "a.integrate()"
   ]
  },
  {
   "cell_type": "code",
   "execution_count": null,
   "metadata": {},
   "outputs": [],
   "source": [
    "fig = plt.figure(figsize=(16,16))\n",
    "\n",
    "com_motion = D.sum(a.y[:, :, :] * masses[None, :, None], axis=1) / D.sum(masses)\n",
    "\n",
    "fig = plt.figure(figsize=(16,16))\n",
    "ax1 = fig.add_subplot(131, aspect=1)\n",
    "ax2 = fig.add_subplot(132, aspect=1)\n",
    "ax3 = fig.add_subplot(133, aspect=1)\n",
    "\n",
    "ax1.set_xlabel(\"x (AU)\")\n",
    "ax1.set_ylabel(\"y (AU)\")\n",
    "ax2.set_xlabel(\"y (AU)\")\n",
    "ax2.set_ylabel(\"z (AU)\")\n",
    "ax3.set_xlabel(\"z (AU)\")\n",
    "ax3.set_ylabel(\"x (AU)\")\n",
    "\n",
    "for i in range(a.y.shape[1]):\n",
    "    ax1.plot(a.y[:, i, 0], a.y[:, i, 1], color=f\"C{i}\")\n",
    "    ax2.plot(a.y[:, i, 1], a.y[:, i, 2], color=f\"C{i}\")\n",
    "    ax3.plot(a.y[:, i, 2], a.y[:, i, 0], color=f\"C{i}\")\n",
    "    \n",
    "ax1.scatter(com_motion[:, 0], com_motion[:, 1], color='k')\n",
    "ax2.scatter(com_motion[:, 1], com_motion[:, 2], color='k')\n",
    "ax3.scatter(com_motion[:, 2], com_motion[:, 0], color='k')\n",
    "\n",
    "plt.tight_layout()"
   ]
  },
  {
   "cell_type": "markdown",
   "metadata": {},
   "source": [
    "## Close Encounters and Event Detection"
   ]
  },
  {
   "cell_type": "markdown",
   "metadata": {},
   "source": [
    "Suppose we were interested in finding when two bodies are near each other, how would we do it? We could integrate the system, compare the distances of each body with one another and whenever they were below some threshold we can mark that time. But this is inherently inexact because maybe the actual closest point occurs between two timesteps and our adaptive integrator, being extra intelligent, did not require stepping through that exact point to find the closest encounter.\n",
    "\n",
    "So what can we do? We can use **Event Detection**! Event detection is where we find when some event occurs during a numerical integration and localise on that event."
   ]
  },
  {
   "cell_type": "markdown",
   "metadata": {},
   "source": [
    "We need to first create a function that will tell us when two objects are nearby. We'll define nearby as whenever the two bodies are within half of each other's Hill sphere. The Hill radius is computed as $a\\sqrt[3]{\\frac{m}{3M_{total}}}$ where we assume that the eccentricity is unimportant and $a$ will be the distance from the centre of mass."
   ]
  },
  {
   "cell_type": "code",
   "execution_count": null,
   "metadata": {},
   "outputs": [],
   "source": [
    "def close_encounter(t, state, masses, G):\n",
    "    distances_between_bodies = []\n",
    "    \n",
    "    total_mass     = D.sum(masses)\n",
    "    center_of_mass = D.sum(state[:, :3] * masses[:, None], axis=1) / total_mass\n",
    "    \n",
    "    com_distances  = D.norm(state[:, :3] - center_of_mass[:, None], axis=1)\n",
    "    hill_radii     = com_distances * D.pow(masses/(3*total_mass), 1/3)\n",
    "    \n",
    "    for idx,ri in enumerate(state[:, :3]):\n",
    "        for jdx, rj in enumerate(state[idx+1:, :3]):\n",
    "            distances_between_bodies.append(D.norm(ri - rj) - D.min([hill_radii[idx], hill_radii[jdx]])/2.0)\n",
    "    \n",
    "    return D.min(distances_between_bodies)"
   ]
  },
  {
   "cell_type": "code",
   "execution_count": null,
   "metadata": {},
   "outputs": [],
   "source": [
    "a.reset()\n",
    "a.integrate(events=close_encounter)"
   ]
  },
  {
   "cell_type": "code",
   "execution_count": null,
   "metadata": {
    "scrolled": false
   },
   "outputs": [],
   "source": [
    "fig = plt.figure(figsize=(16,16))\n",
    "\n",
    "com_motion = D.sum(a.y[:, :, :] * masses[None, :, None], axis=1) / D.sum(masses)\n",
    "\n",
    "fig = plt.figure(figsize=(16,16))\n",
    "ax1 = fig.add_subplot(131, aspect=1)\n",
    "ax2 = fig.add_subplot(132, aspect=1)\n",
    "ax3 = fig.add_subplot(133, aspect=1)\n",
    "\n",
    "ax1.set_xlabel(\"x (AU)\")\n",
    "ax1.set_ylabel(\"y (AU)\")\n",
    "ax2.set_xlabel(\"y (AU)\")\n",
    "ax2.set_ylabel(\"z (AU)\")\n",
    "ax3.set_xlabel(\"z (AU)\")\n",
    "ax3.set_ylabel(\"x (AU)\")\n",
    "\n",
    "for i in range(a.y.shape[1]):\n",
    "    ax1.plot(a.y[:, i, 0], a.y[:, i, 1], color=f\"C{i}\")\n",
    "    ax2.plot(a.y[:, i, 1], a.y[:, i, 2], color=f\"C{i}\")\n",
    "    ax3.plot(a.y[:, i, 2], a.y[:, i, 0], color=f\"C{i}\")\n",
    "    for j in a.events:\n",
    "        ax1.scatter(j.y[i, 0], j.y[i, 1], c=f\"C{i}\", marker='x')\n",
    "        ax2.scatter(j.y[i, 1], j.y[i, 2], c=f\"C{i}\", marker='x')\n",
    "        ax3.scatter(j.y[i, 2], j.y[i, 0], c=f\"C{i}\", marker='x')\n",
    "    \n",
    "ax1.scatter(com_motion[:, 0], com_motion[:, 1], color='k')\n",
    "ax2.scatter(com_motion[:, 1], com_motion[:, 2], color='k')\n",
    "ax3.scatter(com_motion[:, 2], com_motion[:, 0], color='k')\n",
    "\n",
    "plt.tight_layout()"
   ]
  },
  {
   "cell_type": "markdown",
   "metadata": {},
   "source": [
    "We see that there are many close encounters and furthermore, the encounters are not restricted to any particular pairs of bodies, but sometimes happen with three bodies simultaneously. We will see this better in the next section where we look at an animation of the bodies."
   ]
  },
  {
   "cell_type": "markdown",
   "metadata": {},
   "source": [
    "## An Animated View of the Bodies"
   ]
  },
  {
   "cell_type": "markdown",
   "metadata": {},
   "source": [
    "The following code, although long, shows how to set up a matplotlib animation showing the bodies in all three planes and the close encounters they experience.\n",
    "\n",
    "Here we see that the animation slows down whenever the bodies come close to each other and this is due to the adaptive timestepping of the numerical integration which takes more steps whenever there is a close encounter."
   ]
  },
  {
   "cell_type": "code",
   "execution_count": null,
   "metadata": {},
   "outputs": [],
   "source": [
    "from matplotlib import animation, rc\n",
    "plt.rcParams['animation.ffmpeg_path'] = '/usr/bin/ffmpeg' # set to location of ffmpeg to get animations working\n",
    "from IPython.display import HTML"
   ]
  },
  {
   "cell_type": "code",
   "execution_count": null,
   "metadata": {},
   "outputs": [],
   "source": [
    "t          = a.t\n",
    "all_states = a.y\n",
    "planets    = [all_states[:, i, :] for i in range(all_states.shape[1])]\n",
    "com_motion = D.sum(all_states * masses[None, :, None], axis=1) / D.sum(masses)\n",
    "\n",
    "plt.ioff()\n",
    "\n",
    "fig = plt.figure(figsize=(16,8))\n",
    "ax1  = fig.add_subplot(131, aspect=1)\n",
    "ax2  = fig.add_subplot(132, aspect=1)\n",
    "ax3  = fig.add_subplot(133, aspect=1)\n",
    "\n",
    "ax1.set_xlabel(\"x (AU)\")\n",
    "ax1.set_ylabel(\"y (AU)\")\n",
    "ax2.set_xlabel(\"y (AU)\")\n",
    "ax2.set_ylabel(\"z (AU)\")\n",
    "ax3.set_xlabel(\"z (AU)\")\n",
    "ax3.set_ylabel(\"x (AU)\")\n",
    "\n",
    "xlims = D.abs(a.y[:, :, 0]).max()\n",
    "ylims = D.abs(a.y[:, :, 1]).max()\n",
    "zlims = D.abs(a.y[:, :, 2]).max()\n",
    "\n",
    "ax1.set_xlim(-xlims-0.25, xlims+0.25)\n",
    "ax2.set_xlim(-ylims-0.25, ylims+0.25)\n",
    "ax3.set_xlim(-zlims-0.25, zlims+0.25)\n",
    "\n",
    "ax1.set_ylim(-ylims-0.25, ylims+0.25)\n",
    "ax2.set_ylim(-zlims-0.25, zlims+0.25)\n",
    "ax3.set_ylim(-xlims-0.25, xlims+0.25)\n",
    "\n",
    "planets_pos_xy = []\n",
    "planets_pos_yz = []\n",
    "planets_pos_zx = []\n",
    "\n",
    "planets_xy     = []\n",
    "planets_yz     = []\n",
    "planets_zx     = []\n",
    "\n",
    "com_xy,        = ax1.plot([], [], color='k', linestyle='', marker='o', markersize=5.0)\n",
    "com_yz,        = ax2.plot([], [], color='k', linestyle='', marker='o', markersize=5.0)\n",
    "com_zx,        = ax3.plot([], [], color='k', linestyle='', marker='o', markersize=5.0)\n",
    "\n",
    "for i in range(len(planets)):\n",
    "    for j in a.events:\n",
    "        ax1.scatter(j.y[i, 0], j.y[i, 1], c=f\"k\", marker='x')\n",
    "        ax2.scatter(j.y[i, 1], j.y[i, 2], c=f\"k\", marker='x')\n",
    "        ax3.scatter(j.y[i, 2], j.y[i, 0], c=f\"k\", marker='x')\n",
    "\n",
    "time_template = 'time = %.2f days'\n",
    "time_text = ax1.text(0.05, 0.9, '', transform=ax1.transAxes)\n",
    "\n",
    "for i in range(a.y.shape[1]):\n",
    "    planets_xy.append(ax1.plot([], [], color=f\"C{i}\")[0])\n",
    "    planets_yz.append(ax2.plot([], [], color=f\"C{i}\")[0])\n",
    "    planets_zx.append(ax3.plot([], [], color=f\"C{i}\")[0])\n",
    "    planets_pos_xy.append(ax1.plot([], [], color=f\"C{i}\", linestyle='', marker='.')[0])\n",
    "    planets_pos_yz.append(ax2.plot([], [], color=f\"C{i}\", linestyle='', marker='.')[0])\n",
    "    planets_pos_zx.append(ax3.plot([], [], color=f\"C{i}\", linestyle='', marker='.')[0])\n",
    "    \n",
    "def init():\n",
    "    for i in range(len(planets)):\n",
    "        planets_xy[i].set_data([], [])\n",
    "        planets_yz[i].set_data([], [])\n",
    "        planets_zx[i].set_data([], [])\n",
    "        planets_pos_xy[i].set_data([], [])\n",
    "        planets_pos_yz[i].set_data([], [])\n",
    "        planets_pos_zx[i].set_data([], [])\n",
    "        \n",
    "    com_xy.set_data([], [])\n",
    "    com_yz.set_data([], [])\n",
    "    com_zx.set_data([], [])\n",
    "    \n",
    "    time_text.set_text('')\n",
    "    \n",
    "    return tuple(planets_xy + planets_yz + planets_zx + planets_pos_xy + planets_pos_yz + planets_pos_zx + [com_xy, com_yz, com_zx] + [time_text])\n",
    "\n",
    "def animate(frame_num):\n",
    "    for i in range(len(planets)):\n",
    "        planets_xy[i].set_data(planets[i][:frame_num, 0], planets[i][:frame_num, 1])\n",
    "        planets_yz[i].set_data(planets[i][:frame_num, 1], planets[i][:frame_num, 2])\n",
    "        planets_zx[i].set_data(planets[i][:frame_num, 2], planets[i][:frame_num, 0])\n",
    "        planets_pos_xy[i].set_data(planets[i][frame_num:frame_num+1, 0], planets[i][frame_num:frame_num+1, 1])\n",
    "        planets_pos_yz[i].set_data(planets[i][frame_num:frame_num+1, 1], planets[i][frame_num:frame_num+1, 2])\n",
    "        planets_pos_zx[i].set_data(planets[i][frame_num:frame_num+1, 2], planets[i][frame_num:frame_num+1, 0])\n",
    "        \n",
    "    com_xy.set_data(com_motion[frame_num:frame_num+1, 0], com_motion[frame_num:frame_num+1, 1])\n",
    "    com_yz.set_data(com_motion[frame_num:frame_num+1, 1], com_motion[frame_num:frame_num+1, 2])\n",
    "    com_zx.set_data(com_motion[frame_num:frame_num+1, 2], com_motion[frame_num:frame_num+1, 0])\n",
    "    \n",
    "    time_text.set_text(time_template % (t[i]*365.25))\n",
    "    return tuple(planets_xy + planets_yz + planets_zx + planets_pos_xy + planets_pos_yz + planets_pos_zx + [com_xy, com_yz, com_zx] + [time_text])\n",
    "\n",
    "ani = animation.FuncAnimation(fig, animate, list(range(1, len(t))),\n",
    "                              interval=1500./60., blit=False, init_func=init)\n",
    "\n",
    "rc('animation', html='html5')\n",
    "\n",
    "# ani.save('Nbodies.mp4', fps=60)\n",
    "display(ani)"
   ]
  }
 ],
 "metadata": {
  "kernelspec": {
   "display_name": "Python [conda env:desolver]",
   "language": "python",
   "name": "conda-env-desolver-py"
  },
  "language_info": {
   "codemirror_mode": {
    "name": "ipython",
    "version": 3
   },
   "file_extension": ".py",
   "mimetype": "text/x-python",
   "name": "python",
   "nbconvert_exporter": "python",
   "pygments_lexer": "ipython3",
   "version": "3.7.3"
  }
 },
 "nbformat": 4,
 "nbformat_minor": 2
}
