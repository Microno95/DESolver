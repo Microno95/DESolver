{
 "cells": [
  {
   "cell_type": "markdown",
   "metadata": {},
   "source": [
    "# High Order Taylor Maps I"
   ]
  },
  {
   "cell_type": "markdown",
   "metadata": {},
   "source": [
    "(original by Dario Izzo - extended by Ekin Ozturk)"
   ]
  },
  {
   "cell_type": "markdown",
   "metadata": {},
   "source": [
    "In this notebook we consider the system of differential equations $\\dot{\\mathbf y} = \\mathbf f(\\mathbf y)$:\n",
    "\n",
    "$$\n",
    "\\begin{array}{l}\n",
    "\\dot r = v_r \\\\\n",
    "\\dot v_r = - \\frac 1{r^2} + r v_\\theta^2\\\\\n",
    "\\dot \\theta = v_\\theta \\\\\n",
    "\\dot v_\\theta = -2 \\frac{v_\\theta v_r}{r}\n",
    "\\end{array}\n",
    "$$\n",
    "\n",
    "which describe, in non dimensional units, the Keplerian motion of a mass point object around some primary body. \n",
    "We show how we can build a high order Taylor map (HOTM, indicated with $\\mathcal M$) representing the final state of the system at the time $T$ as a function of the initial conditions. \n",
    "\n",
    "In other words, we build a polinomial representation of the relation $\\mathbf y(T) = \\mathbf f(\\mathbf y(0), T)$. Writing the initial conditions as $\\mathbf y(0) = \\overline {\\mathbf y}(0) + \\mathbf {dy}$, our HOTM will be written as:\n",
    "\n",
    "$$\n",
    "\\mathbf y(T) = \\mathcal M(\\mathbf {dy})\n",
    "$$\n",
    "\n",
    "and will be valid in a neighbourhood of $\\overline {\\mathbf y}(0)$."
   ]
  },
  {
   "cell_type": "markdown",
   "metadata": {},
   "source": [
    "## Importing Stuff"
   ]
  },
  {
   "cell_type": "code",
   "execution_count": 1,
   "metadata": {},
   "outputs": [
    {
     "name": "stderr",
     "output_type": "stream",
     "text": [
      "PyAudi backend is available.\n",
      "Using numpy backend\n"
     ]
    }
   ],
   "source": [
    "%matplotlib inline\n",
    "from matplotlib import pyplot as plt\n",
    "\n",
    "import os\n",
    "import numpy as np\n",
    "\n",
    "os.environ['DES_BACKEND'] = 'numpy'\n",
    "import desolver as de\n",
    "import desolver.backend as D\n",
    "from desolver.backend import gdual_double as gdual"
   ]
  },
  {
   "cell_type": "code",
   "execution_count": 2,
   "metadata": {},
   "outputs": [
    {
     "data": {
      "text/markdown": [
       "$$\n",
       "\\begin{array}{l}\n",
       "\\dot r = v_r \\\\\n",
       "\\dot v_r = - \\frac 1{r^2} + r v_\\theta^2\\\\\n",
       "\\dot \\theta = v_\\theta \\\\\n",
       "\\dot v_\\theta = -2 \\frac{v_\\theta v_r}{r}\n",
       "\\end{array}\n",
       "$$"
      ],
      "text/plain": [
       "<DiffRHS(<function eom_kep_polar at 0x7fe6fee47e18>,[vr, -1/r**2 + r*vt**2, vt, -2*vt*vr/r],$$\n",
       "\\begin{array}{l}\n",
       "\\dot r = v_r \\\\\n",
       "\\dot v_r = - \\frac 1{r^2} + r v_\\theta^2\\\\\n",
       "\\dot \\theta = v_\\theta \\\\\n",
       "\\dot v_\\theta = -2 \\frac{v_\\theta v_r}{r}\n",
       "\\end{array}\n",
       "$$)>"
      ]
     },
     "execution_count": 2,
     "metadata": {},
     "output_type": "execute_result"
    }
   ],
   "source": [
    "T = 1e-3\n",
    "\n",
    "@de.rhs_prettifier(equ_repr=\"[vr, -1/r**2 + r*vt**2, vt, -2*vt*vr/r]\", md_repr=r\"\"\"$$\n",
    "\\begin{array}{l}\n",
    "\\dot r = v_r \\\\\n",
    "\\dot v_r = - \\frac 1{r^2} + r v_\\theta^2\\\\\n",
    "\\dot \\theta = v_\\theta \\\\\n",
    "\\dot v_\\theta = -2 \\frac{v_\\theta v_r}{r}\n",
    "\\end{array}\n",
    "$$\"\"\")\n",
    "def eom_kep_polar(t,y,**kwargs):\n",
    "    return D.array([y[1], - 1 / y[0] / y[0] + y[0] * y[3]*y[3], y[3], -2*y[3]*y[1]/y[0] - T])\n",
    "\n",
    "eom_kep_polar"
   ]
  },
  {
   "cell_type": "code",
   "execution_count": 3,
   "metadata": {},
   "outputs": [],
   "source": [
    "# The initial conditions\n",
    "ic = [1.,0.1,0.,1.]"
   ]
  },
  {
   "cell_type": "markdown",
   "metadata": {},
   "source": [
    "## We perform the numerical integration using floats (the standard way)"
   ]
  },
  {
   "cell_type": "code",
   "execution_count": 4,
   "metadata": {},
   "outputs": [
    {
     "data": {
      "application/vnd.jupyter.widget-view+json": {
       "model_id": "077b9cbe922d4f2c981e8b669e162b54",
       "version_major": 2,
       "version_minor": 0
      },
      "text/plain": [
       "HBox(children=(FloatProgress(value=0.0, max=9000000000.0), HTML(value='')))"
      ]
     },
     "metadata": {},
     "output_type": "display_data"
    },
    {
     "name": "stdout",
     "output_type": "stream",
     "text": [
      "\n"
     ]
    }
   ],
   "source": [
    "D.set_float_fmt('float64')\n",
    "float_integration = de.OdeSystem(eom_kep_polar, y0=ic, dense_output=False, t=(0, 5.), dt=0.01, rtol=1e-12, atol=1e-12, constants=dict())\n",
    "\n",
    "float_integration.set_method(\"RK45\")\n",
    "float_integration.integrate(eta=True)"
   ]
  },
  {
   "cell_type": "code",
   "execution_count": 5,
   "metadata": {},
   "outputs": [
    {
     "data": {
      "text/plain": [
       "Text(0, 0.5, 'y')"
      ]
     },
     "execution_count": 5,
     "metadata": {},
     "output_type": "execute_result"
    },
    {
     "data": {
      "image/png": "[encoded data removed]",
      "text/plain": [
       "<Figure size 432x288 with 1 Axes>"
      ]
     },
     "metadata": {
      "needs_background": "light"
     },
     "output_type": "display_data"
    }
   ],
   "source": [
    "# Here we transform from polar to cartesian coordinates\n",
    "# to then plot\n",
    "y = float_integration.y\n",
    "cx = [it[0]*np.sin(it[2]) for it in y.astype(np.float64)]\n",
    "cy = [it[0]*np.cos(it[2]) for it in y.astype(np.float64)]\n",
    "plt.plot(cx,cy)\n",
    "plt.title(\"Orbit resulting from the chosen initial conditions\")\n",
    "plt.xlabel(\"x\")\n",
    "plt.ylabel(\"y\")"
   ]
  },
  {
   "cell_type": "markdown",
   "metadata": {},
   "source": [
    "## We perform the numerical integration using gduals (to get a HOTM)"
   ]
  },
  {
   "cell_type": "code",
   "execution_count": 6,
   "metadata": {},
   "outputs": [],
   "source": [
    "# Order of the Taylor Map. If we have 4 variables the number of terms in the Taylor expansion in 329  at order 7\n",
    "order = 5\n",
    "# We now define the initial conditions as gdual (not float)\n",
    "ic_g = [gdual(ic[0], \"r\", order), gdual(ic[1], \"vr\", order), gdual(ic[2], \"t\", order), gdual(ic[3], \"vt\", order)]"
   ]
  },
  {
   "cell_type": "code",
   "execution_count": 7,
   "metadata": {},
   "outputs": [
    {
     "data": {
      "application/vnd.jupyter.widget-view+json": {
       "model_id": "d5ec2a9c382c44849bec7d560d450ae6",
       "version_major": 2,
       "version_minor": 0
      },
      "text/plain": [
       "HBox(children=(FloatProgress(value=0.0, max=9000000000.0), HTML(value='')))"
      ]
     },
     "metadata": {},
     "output_type": "display_data"
    },
    {
     "name": "stdout",
     "output_type": "stream",
     "text": [
      "\n",
      "--- 2.370866537094116 seconds ---\n"
     ]
    }
   ],
   "source": [
    "import time\n",
    "start_time = time.time()\n",
    "D.set_float_fmt('gdual_double')\n",
    "gdual_integration = de.OdeSystem(eom_kep_polar, y0=ic_g, dense_output=False, t=(0, 5.), dt=0.01, rtol=1e-12, atol=1e-12, constants=dict())\n",
    "\n",
    "gdual_integration.set_method(\"RK45\")\n",
    "gdual_integration.integrate(eta=True)\n",
    "print(\"--- %s seconds ---\" % (time.time() - start_time))"
   ]
  },
  {
   "cell_type": "code",
   "execution_count": 8,
   "metadata": {},
   "outputs": [
    {
     "name": "stdout",
     "output_type": "stream",
     "text": [
      "\\[ -55841{dr}^{3}{dvr}-1275.3{dr}{dt}^{2}{dvr}{dvt}+173.989{dvt}^{2}-173.378{dt}^{2}{dvr}^{2}{dvt}+9.62324{dt}^{3}{dvt}^{2}+1.32949{dt}^{2}{dvt}-44158.2{dr}{dvr}{dvt}^{2}-84479.7{dr}^{2}{dvr}{dvt}-185942{dr}^{4}+0.633023{dvr}-64.2798{dr}{dt}{dvr}-484.008{dvr}^{2}{dvt}^{2}-1163.38{dr}^{2}{dt}^{2}{dvr}+0.631304{dt}^{3}{dvr}+1464.63{dt}{dvt}^{3}+49.3971{dvr}^{3}-2.93557{dt}^{2}{dvr}^{2}-1.0485e+06{dr}{dvr}{dvt}^{3}-2.51218e+06{dr}^{2}{dvt}^{3}-3.42258e+06{dr}^{4}{dvt}+82.0594{dt}{dvr}^{4}+21774.3{dr}^{2}{dt}{dvr}^{2}+2545.39{dr}{dt}{dvr}^{3}+678.491{dr}{dvr}^{2}-1375.59{dr}{dvr}^{2}{dvt}-71311.5{dvt}^{5}+38.1032{dr}{dt}^{3}{dvt}+675.07{dr}{dvt}+16159.5{dr}^{2}{dt}{dvt}-31.9638{dt}{dvr}{dvt}+2.63231{dr}{dt}^{2}-2890.19{dr}^{2}{dt}^{2}{dvt}-228.619{dr}{dt}{dvt}+29.1943{dr}^{2}{dt}^{3}+10.7133{dr}{dt}^{3}{dvr}+141.812{dr}{dvr}-0.316512{dt}^{2}{dvr}-385653{dr}^{3}{dvt}-301335{dr}^{2}{dvt}^{2}+0.0527092{dt}-0.0373053{dt}^{4}+5.3273{dt}^{3}{dvr}{dvt}+72.8282{dvr}{dvt}-1694.49{dr}{dt}^{2}{dvt}^{2}-57.7394{dt}{dvt}^{2}-2.65898{dvt}+624.428{dvr}^{3}{dvt}+661.797{dr}^{2}+2892.65{dr}{dt}{dvr}{dvt}+10562.9{dr}^{3}{dt}+\\ldots+\\mathcal{O}\\left(6\\right) \\]\n",
      "xf (latex):\n"
     ]
    },
    {
     "data": {
      "text/latex": [
       "\\[ -55841{dr}^{3}{dvr}-1275.3{dr}{dt}^{2}{dvr}{dvt}+173.989{dvt}^{2}-173.378{dt}^{2}{dvr}^{2}{dvt}+9.62324{dt}^{3}{dvt}^{2}+1.32949{dt}^{2}{dvt}-44158.2{dr}{dvr}{dvt}^{2}-84479.7{dr}^{2}{dvr}{dvt}-185942{dr}^{4}+0.633023{dvr}-64.2798{dr}{dt}{dvr}-484.008{dvr}^{2}{dvt}^{2}-1163.38{dr}^{2}{dt}^{2}{dvr}+0.631304{dt}^{3}{dvr}+1464.63{dt}{dvt}^{3}+49.3971{dvr}^{3}-2.93557{dt}^{2}{dvr}^{2}-1.0485e+06{dr}{dvr}{dvt}^{3}-2.51218e+06{dr}^{2}{dvt}^{3}-3.42258e+06{dr}^{4}{dvt}+82.0594{dt}{dvr}^{4}+21774.3{dr}^{2}{dt}{dvr}^{2}+2545.39{dr}{dt}{dvr}^{3}+678.491{dr}{dvr}^{2}-1375.59{dr}{dvr}^{2}{dvt}-71311.5{dvt}^{5}+38.1032{dr}{dt}^{3}{dvt}+675.07{dr}{dvt}+16159.5{dr}^{2}{dt}{dvt}-31.9638{dt}{dvr}{dvt}+2.63231{dr}{dt}^{2}-2890.19{dr}^{2}{dt}^{2}{dvt}-228.619{dr}{dt}{dvt}+29.1943{dr}^{2}{dt}^{3}+10.7133{dr}{dt}^{3}{dvr}+141.812{dr}{dvr}-0.316512{dt}^{2}{dvr}-385653{dr}^{3}{dvt}-301335{dr}^{2}{dvt}^{2}+0.0527092{dt}-0.0373053{dt}^{4}+5.3273{dt}^{3}{dvr}{dvt}+72.8282{dvr}{dvt}-1694.49{dr}{dt}^{2}{dvt}^{2}-57.7394{dt}{dvt}^{2}-2.65898{dvt}+624.428{dvr}^{3}{dvt}+661.797{dr}^{2}+2892.65{dr}{dt}{dvr}{dvt}+10562.9{dr}^{3}{dt}+\\ldots+\\mathcal{O}\\left(6\\right) \\]"
      ],
      "text/plain": [
       "Key type        : obake::polynomials::d_packed_monomial<unsigned long long, 8u, void>\n",
       "Coefficient type: double\n",
       "Tag             : obake::polynomials::tag\n",
       "Rank            : 1\n",
       "Symbol set      : {'dr', 'dt', 'dvr', 'dvt'}\n",
       "Number of terms : 126\n",
       "-55841*dr**3*dvr-1275.3*dr*dt**2*dvr*dvt+173.989*dvt**2-173.378*dt**2*dvr**2*dvt+9.62324*dt**3*dvt**2+1.32949*dt**2*dvt-44158.2*dr*dvr*dvt**2-84479.7*dr**2*dvr*dvt-185942*dr**4+0.633023*dvr-64.2798*dr*dt*dvr-484.008*dvr**2*dvt**2-1163.38*dr**2*dt**2*dvr+0.631304*dt**3*dvr+1464.63*dt*dvt**3+49.3971*dvr**3-2.93557*dt**2*dvr**2-1.0485e+06*dr*dvr*dvt**3-2.51218e+06*dr**2*dvt**3-3.42258e+06*dr**4*dvt+82.0594*dt*dvr**4+21774.3*dr**2*dt*dvr**2+2545.39*dr*dt*dvr**3+678.491*dr*dvr**2-1375.59*dr*dvr**2*dvt-71311.5*dvt**5+38.1032*dr*dt**3*dvt+675.07*dr*dvt+16159.5*dr**2*dt*dvt-31.9638*dt*dvr*dvt+2.63231*dr*dt**2-2890.19*dr**2*dt**2*dvt-228.619*dr*dt*dvt+29.1943*dr**2*dt**3+10.7133*dr*dt**3*dvr+141.812*dr*dvr-0.316512*dt**2*dvr-385653*dr**3*dvt-301335*dr**2*dvt**2+0.0527092*dt-0.0373053*dt**4+5.3273*dt**3*dvr*dvt+72.8282*dvr*dvt-1694.49*dr*dt**2*dvt**2-57.7394*dt*dvt**2-2.65898*dvt+624.428*dvr**3*dvt+661.797*dr**2+2892.65*dr*dt*dvr*dvt+10562.9*dr**3*dt+..."
      ]
     },
     "execution_count": 8,
     "metadata": {},
     "output_type": "execute_result"
    }
   ],
   "source": [
    "# We extract the last point\n",
    "yf = gdual_integration.y[-1]\n",
    "# And unpack it into some convinient names\n",
    "rf,vrf,tf,vtf = yf\n",
    "# We compute the final cartesian components\n",
    "xf = rf * D.sin(tf)\n",
    "yf = rf * D.cos(tf)\n",
    "# Note that you can get the latex representation of the gdual\n",
    "print(xf._repr_latex_())\n",
    "print(\"xf (latex):\")\n",
    "xf"
   ]
  },
  {
   "cell_type": "code",
   "execution_count": 9,
   "metadata": {},
   "outputs": [
    {
     "name": "stdout",
     "output_type": "stream",
     "text": [
      "Final x from the gdual integration -0.8953272292032805\n",
      "Final y from the gdual integration 0.052709201662514145\n",
      "\n",
      "Final x from the float integration -0.8953272292032807\n",
      "Final y from the float integration 0.052709201662513354\n"
     ]
    }
   ],
   "source": [
    "# We can extract the value of the polinomial when $\\mathbf {dy} = 0$\n",
    "print(\"Final x from the gdual integration\", xf.constant_cf)\n",
    "print(\"Final y from the gdual integration\", yf.constant_cf)\n",
    "# And check its indeed the result of the 'reference' trajectory (the lineariation point)\n",
    "print(\"\\nFinal x from the float integration\", cx[-1])\n",
    "print(\"Final y from the float integration\", cy[-1])"
   ]
  },
  {
   "cell_type": "markdown",
   "metadata": {},
   "source": [
    "## We visualize the HOTM"
   ]
  },
  {
   "cell_type": "code",
   "execution_count": 10,
   "metadata": {},
   "outputs": [
    {
     "name": "stdout",
     "output_type": "stream",
     "text": [
      "--- 0.7013068199157715 seconds ---\n"
     ]
    }
   ],
   "source": [
    "# Let us now visualize the Taylor map by creating a grid of perturbations on the initial conditions and\n",
    "# evaluating the map for those values\n",
    "Npoints = 10 # 10000 points\n",
    "epsilon = 1e-3\n",
    "grid = np.arange(-epsilon,epsilon,2*epsilon/Npoints)\n",
    "nxf = [0] * len(grid)**4\n",
    "nyf = [0] * len(grid)**4\n",
    "i=0\n",
    "import time\n",
    "start_time = time.time()\n",
    "for dr in grid:\n",
    "    for dt in grid:\n",
    "        for dvr in grid:\n",
    "            for dvt in grid:\n",
    "                nxf[i] = xf.evaluate({\"dr\":dr, \"dt\":dt, \"dvr\":dvr,\"dvt\":dvt})\n",
    "                nyf[i] = yf.evaluate({\"dr\":dr, \"dt\":dt, \"dvr\":dvr,\"dvt\":dvt})\n",
    "                i = i+1\n",
    "print(\"--- %s seconds ---\" % (time.time() - start_time))"
   ]
  },
  {
   "cell_type": "code",
   "execution_count": 11,
   "metadata": {},
   "outputs": [
    {
     "data": {
      "text/plain": [
       "Text(0.5, 1.0, 'Stretch')"
      ]
     },
     "execution_count": 11,
     "metadata": {},
     "output_type": "execute_result"
    },
    {
     "data": {
      "image/png": "[encoded data removed]",
      "text/plain": [
       "<Figure size 1080x360 with 3 Axes>"
      ]
     },
     "metadata": {
      "needs_background": "light"
     },
     "output_type": "display_data"
    }
   ],
   "source": [
    "f, axarr = plt.subplots(1,3,figsize=(15,5))\n",
    "# Normal plot of the final map\n",
    "axarr[0].plot(nxf,nyf,'.')\n",
    "axarr[0].plot(cx,cy)\n",
    "axarr[0].set_title(\"The map\")\n",
    "\n",
    "# Zoomed plot of the final map (equal axis)\n",
    "axarr[1].plot(nxf,nyf,'.')\n",
    "axarr[1].plot(cx,cy)\n",
    "axarr[1].set_xlim([cx[-1] - 0.1, cx[-1] + 0.1])\n",
    "axarr[1].set_ylim([cy[-1] - 0.1, cy[-1] + 0.1])\n",
    "axarr[1].set_title(\"Zoom\")\n",
    "\n",
    "# Zoomed plot of the final map (unequal axis)\n",
    "axarr[2].plot(nxf,nyf,'.')\n",
    "axarr[2].plot(cx,cy)\n",
    "axarr[2].set_xlim([cx[-1] - 0.01, cx[-1] + 0.01])\n",
    "axarr[2].set_ylim([cy[-1] - 0.1, cy[-1] + 0.1])\n",
    "axarr[2].set_title(\"Stretch\")\n",
    "#axarr[1].set_xlim([cx[-1] - 0.1, cx[-1] + 0.1])\n",
    "#axarr[1].set_ylim([cy[-1] - 0.1, cy[-1] + 0.1])"
   ]
  },
  {
   "cell_type": "markdown",
   "metadata": {},
   "source": [
    "## How much faster is now to evaluate the Map rather than perform a new numerical integration?"
   ]
  },
  {
   "cell_type": "code",
   "execution_count": 12,
   "metadata": {},
   "outputs": [],
   "source": [
    "# First we profile the method evaluate (note that you need to call the method 4 times to get the full state)"
   ]
  },
  {
   "cell_type": "code",
   "execution_count": 13,
   "metadata": {},
   "outputs": [
    {
     "name": "stdout",
     "output_type": "stream",
     "text": [
      "30.9 µs ± 104 ns per loop (mean ± std. dev. of 7 runs, 10000 loops each)\n"
     ]
    }
   ],
   "source": [
    "%timeit xf.evaluate({\"dr\":epsilon, \"dt\":epsilon, \"dvr\":epsilon,\"dvt\":epsilon})"
   ]
  },
  {
   "cell_type": "code",
   "execution_count": 14,
   "metadata": {},
   "outputs": [],
   "source": [
    "# Then we profile the Runge-Kutta 4 integrator"
   ]
  },
  {
   "cell_type": "code",
   "execution_count": 15,
   "metadata": {},
   "outputs": [
    {
     "name": "stdout",
     "output_type": "stream",
     "text": [
      "46.5 ms ± 312 µs per loop (mean ± std. dev. of 7 runs, 10 loops each)\n"
     ]
    }
   ],
   "source": [
    "%%timeit\n",
    "D.set_float_fmt('float64')\n",
    "float_integration = de.OdeSystem(eom_kep_polar, y0=[it + epsilon for it in ic], dense_output=False, t=(0, 5.), dt=0.01, rtol=1e-12, atol=1e-12, constants=dict())\n",
    "\n",
    "float_integration.set_method(\"RK45\")\n",
    "float_integration.integrate(eta=False)"
   ]
  },
  {
   "cell_type": "code",
   "execution_count": 16,
   "metadata": {},
   "outputs": [
    {
     "data": {
      "text/plain": [
       "Text(0, 0.5, 'Error in estimating the final state (x)')"
      ]
     },
     "execution_count": 16,
     "metadata": {},
     "output_type": "execute_result"
    },
    {
     "data": {
      "image/png": "[encoded data removed]",
      "text/plain": [
       "<Figure size 432x288 with 1 Axes>"
      ]
     },
     "metadata": {
      "needs_background": "light"
     },
     "output_type": "display_data"
    }
   ],
   "source": [
    "# It seems the speedup is 2-3 orders of magnitude, but did we loose precision?\n",
    "# We plot the error in the final result as computed by the HOTM and by the Runge-Kutta\n",
    "# as a function of the distance from the original initial conditions\n",
    "out = []\n",
    "pert = np.arange(0,0.1,1e-3)\n",
    "for epsilon in pert:\n",
    "    res_map_xf = xf.evaluate({\"dr\":epsilon, \"dt\":epsilon, \"dvr\":epsilon,\"dvt\":epsilon})\n",
    "    res_int = de.OdeSystem(eom_kep_polar, y0=[it + epsilon for it in ic], dense_output=False, t=(0, 5.), dt=0.01, rtol=1e-12, atol=1e-12, constants=dict())\n",
    "    res_int.set_method(\"RK45\")\n",
    "    res_int.integrate()\n",
    "    res_int_x = [it.y[0]*np.sin(it.y[2]) for it in res_int]\n",
    "    res_int_xf = res_int_x[-1]\n",
    "    out.append(np.abs(res_map_xf - res_int_xf))\n",
    "plt.semilogy(pert,out)\n",
    "plt.title(\"Error introduced by the use of the polynomial\")\n",
    "plt.xlabel(\"Perturbation of the initial conditions\")\n",
    "plt.ylabel(\"Error in estimating the final state (x)\")"
   ]
  }
 ],
 "metadata": {
  "kernelspec": {
   "display_name": "Python [conda env:desolver]",
   "language": "python",
   "name": "conda-env-desolver-py"
  },
  "language_info": {
   "codemirror_mode": {
    "name": "ipython",
    "version": 3
   },
   "file_extension": ".py",
   "mimetype": "text/x-python",
   "name": "python",
   "nbconvert_exporter": "python",
   "pygments_lexer": "ipython3",
   "version": "3.7.3"
  }
 },
 "nbformat": 4,
 "nbformat_minor": 2
}
